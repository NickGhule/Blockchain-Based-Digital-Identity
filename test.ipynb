{
 "cells": [
  {
   "cell_type": "code",
   "execution_count": 36,
   "metadata": {},
   "outputs": [],
   "source": [
    "from web3 import Web3, HTTPProvider\n",
    "import json"
   ]
  },
  {
   "cell_type": "code",
   "execution_count": 37,
   "metadata": {},
   "outputs": [],
   "source": [
    "host = '127.0.0.1'\n",
    "port = '8545'\n",
    "w3 = Web3(HTTPProvider('http://' + host + ':' + port))"
   ]
  },
  {
   "cell_type": "code",
   "execution_count": 38,
   "metadata": {},
   "outputs": [
    {
     "data": {
      "text/plain": [
       "'0x5aFb866C1B7dF18Ed0728E4D9D500Fd8811a08Cb'"
      ]
     },
     "execution_count": 38,
     "metadata": {},
     "output_type": "execute_result"
    }
   ],
   "source": [
    "w3.eth.accounts[0]"
   ]
  },
  {
   "cell_type": "code",
   "execution_count": 39,
   "metadata": {},
   "outputs": [],
   "source": [
    "contractBuild = open(\"build/contracts/digitalID.json\", \"r\").read()"
   ]
  },
  {
   "cell_type": "code",
   "execution_count": 40,
   "metadata": {},
   "outputs": [
    {
     "name": "stdout",
     "output_type": "stream",
     "text": [
      "0x38448f15b3FB2Ba7587E4e25dBD5E7e4915ddCB5\n"
     ]
    }
   ],
   "source": [
    "_abi = json.loads(contractBuild)['abi']\n",
    "_address = \"0x38448f15b3FB2Ba7587E4e25dBD5E7e4915ddCB5\"\n",
    "print(_address)"
   ]
  },
  {
   "cell_type": "code",
   "execution_count": 41,
   "metadata": {},
   "outputs": [],
   "source": [
    "contract = w3.eth.contract(abi= _abi, address= _address)"
   ]
  },
  {
   "cell_type": "code",
   "execution_count": 42,
   "metadata": {},
   "outputs": [
    {
     "data": {
      "text/plain": [
       "HexBytes('0xeb9b42997b613704514202d0890ce6c655d14cfc978773e8240cdcc70d22fb50')"
      ]
     },
     "execution_count": 42,
     "metadata": {},
     "output_type": "execute_result"
    }
   ],
   "source": [
    "contract.functions.addDocumentHash(\"nickghule\",\"drive\",\"hash2\").transact({'from': w3.eth.accounts[0], 'gas': 1000000})"
   ]
  },
  {
   "cell_type": "code",
   "execution_count": 43,
   "metadata": {},
   "outputs": [
    {
     "data": {
      "text/plain": [
       "['hash2']"
      ]
     },
     "execution_count": 43,
     "metadata": {},
     "output_type": "execute_result"
    }
   ],
   "source": [
    "contract.functions.getDocumentHashHistory( \"nickghule\", \"drive\").call()"
   ]
  },
  {
   "cell_type": "code",
   "execution_count": 8,
   "metadata": {},
   "outputs": [
    {
     "name": "stdout",
     "output_type": "stream",
     "text": [
      "doc\n",
      "test\n",
      "other\n"
     ]
    }
   ],
   "source": [
    "import datetime\n",
    "def ObjectId(s):\n",
    "    return s\n",
    "\n",
    "docsSeparated = {'doc': [{'_id': ObjectId('6270948e79d572169fcd1d24'), 'userName': 'nickghule', 'documentName': 'doc', 'timestamp': datetime.datetime(2022, 5, 3, 8, 3, 50, 463000), 'documentData': 'doc2'}], 'test': [{'_id': ObjectId('62709529f3b89ef4bfca24bb'), 'userName': 'nickghule', 'documentName': 'test', 'timestamp': datetime.datetime(2022, 5, 3, 8, 6, 25, 759000), 'documentData': 'doc2'}, {'_id': ObjectId('62709543cf8bd81403c77965'), 'userName': 'nickghule', 'documentName': 'test', 'timestamp': datetime.datetime(2022, 5, 3, 8, 6, 51, 478000), 'documentData': 'doc2'}, {'_id': ObjectId('6270959445969d3705b59512'), 'userName': 'nickghule', 'documentName': 'test', 'timestamp': datetime.datetime(2022, 5, 3, 8, 8, 12, 269000), 'documentData': 'doc2'}, {'_id': ObjectId('627095a6608bde8776a0bbda'), 'userName': 'nickghule', 'documentName': 'test', 'timestamp': datetime.datetime(2022, 5, 3, 8, 8, 30, 819000), 'documentData': 'doc2'}, {'_id': ObjectId('6270976a294d2c8a0978d08a'), 'userName': 'nickghule', 'documentName': 'test', 'timestamp': datetime.datetime(2022, 5, 3, 8, 16, 2, 76000), 'documentData': 'doc2'}, {'_id': ObjectId('6277695e6358ab29ac06f3b0'), 'userName': 'nickghule', 'documentName': 'test', 'timestamp': datetime.datetime(2022, 5, 8, 12, 25, 26, 176000), 'documentData': 'doc2'}, {'_id': ObjectId('6277be8f3ffe8a1c7868b8d4'), 'userName': 'nickghule', 'documentName': 'test', 'timestamp': datetime.datetime(2022, 5, 8, 18, 28, 55, 436000), 'documentData': 'doc2'}, {'_id': ObjectId('6277be9fa04b6671c5ba4c44'), 'userName': 'nickghule', 'documentName': 'test', 'timestamp': datetime.datetime(2022, 5, 8, 18, 29, 11, 449000), 'documentData': 'doc2'}], 'other': [{'_id': ObjectId('6277bebf69f247bb49803a85'), 'userName': 'nickghule', 'documentName': 'other', 'timestamp': datetime.datetime(2022, 5, 8, 18, 29, 43, 919000), 'documentData': 'doc2'}]}\n",
    "for doc in docsSeparated:\n",
    "    print(docsSeparated.get(doc)[-1].get(\"documentName\"))"
   ]
  }
 ],
 "metadata": {
  "interpreter": {
   "hash": "916dbcbb3f70747c44a77c7bcd40155683ae19c65e1c03b4aa3499c5328201f1"
  },
  "kernelspec": {
   "display_name": "Python 3.10.4 64-bit",
   "language": "python",
   "name": "python3"
  },
  "language_info": {
   "codemirror_mode": {
    "name": "ipython",
    "version": 3
   },
   "file_extension": ".py",
   "mimetype": "text/x-python",
   "name": "python",
   "nbconvert_exporter": "python",
   "pygments_lexer": "ipython3",
   "version": "3.10.4"
  },
  "orig_nbformat": 4
 },
 "nbformat": 4,
 "nbformat_minor": 2
}
